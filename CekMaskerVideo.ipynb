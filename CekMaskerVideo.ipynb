{
 "cells": [
  {
   "cell_type": "code",
   "execution_count": 4,
   "metadata": {},
   "outputs": [],
   "source": [
    "import cv2"
   ]
  },
  {
   "cell_type": "code",
   "execution_count": 5,
   "metadata": {},
   "outputs": [],
   "source": [
    "face_mask = cv2.CascadeClassifier(\"cascadedownload/cascade.xml\")\n",
    "faceCascade = cv2.CascadeClassifier(\"haarcascade/haarcascade_frontalface_default.xml\")\n",
    "noseCascade = cv2.CascadeClassifier(\"haarcascade/Nariz.xml\")\n",
    "mouth_cascade = cv2.CascadeClassifier('haarcascade/haarcascade_mcs_mouth.xml')"
   ]
  },
  {
   "cell_type": "code",
   "execution_count": 6,
   "metadata": {},
   "outputs": [],
   "source": [
    "cap = cv2.VideoCapture(0)\n",
    "mask_on = False\n",
    "\n",
    "while(True):\n",
    "    # Capture frame-by-frame\n",
    "    ret, frame = cap.read()\n",
    "     \n",
    "    # Our operations on the frame come here\n",
    "    gray = cv2.cvtColor(frame, cv2.COLOR_BGR2GRAY)\n",
    " \n",
    "    wajah = faceCascade.detectMultiScale(gray, 1.1, 5)\n",
    "\n",
    "    for(x, y, w, h) in wajah:\n",
    "        roi_gray = gray[y:y+h, x:x+w]\n",
    "        roi_color = frame[y:y+h, x:x+w]\n",
    "        if mask_on:(\n",
    "                cv2.rectangle(frame, (x,y), (x+w, y+h), (0, 255, 0), 1),\n",
    "                cv2.putText(frame,'Masker On',(x,y),1,2,(0,255,0),2),\n",
    "                \n",
    "        )\n",
    "        else:(\n",
    "            cv2.rectangle(frame, (x,y), (x+w, y+h), (0,0,255),1),\n",
    "            cv2.putText(frame,'Masker Off',(x,y),1,2,(0,0,255),2),\n",
    "\n",
    "        )\n",
    "\n",
    "    # gambar kotak di hidung\n",
    "    hidung = noseCascade.detectMultiScale(gray, 1.18, 35,)\n",
    "    for(ax, ay, aw, ah) in hidung:\n",
    "    \tcv2.rectangle(frame, (ax,ay), (ax+aw, ay+ah), (255,0,0),1),\n",
    "    \tcv2.putText(frame,'Hidung',(ax,ay),1,1,(255,0,0),1)\n",
    "        \n",
    "        \n",
    "    masker = face_mask.detectMultiScale(gray,1.1,4)\n",
    "    for(bx,by,bw,bh) in masker:\n",
    "        cv2.rectangle(frame,(bx,by),(bx+bw,by+bh),(255,0,0),1),\n",
    "        cv2.putText(frame,'masker',(bx,by),1,1,(255,0,0),1),\n",
    "        \n",
    "\n",
    "\n",
    "    \n",
    "    if(len(wajah) > 0 and len(hidung) == 0 ):\n",
    "        mask_on = True  \n",
    "    elif(len(hidung) == 0):\n",
    "        mask_on = True \n",
    "    else:\n",
    "        mask_on = False\n",
    "        \n",
    "         \n",
    "\n",
    "\n",
    "    # Display the resulting frame\n",
    "\n",
    "    cv2.imshow('video',frame)\n",
    "    if cv2.waitKey(1) & 0xFF == ord('q'):\n",
    "        break\n",
    " \n",
    "# When everything done, release the capture\n",
    "cap.release()\n",
    "cv2.destroyAllWindows()"
   ]
  },
  {
   "cell_type": "code",
   "execution_count": null,
   "metadata": {},
   "outputs": [],
   "source": []
  }
 ],
 "metadata": {
  "interpreter": {
   "hash": "51caf58ca497ea2933425082b6e0aef5f3c1f6bfac7acb631377d18aecfee769"
  },
  "kernelspec": {
   "display_name": "Python 3.7.3 ('base')",
   "language": "python",
   "name": "python3"
  },
  "language_info": {
   "codemirror_mode": {
    "name": "ipython",
    "version": 3
   },
   "file_extension": ".py",
   "mimetype": "text/x-python",
   "name": "python",
   "nbconvert_exporter": "python",
   "pygments_lexer": "ipython3",
   "version": "3.7.3"
  }
 },
 "nbformat": 4,
 "nbformat_minor": 4
}
