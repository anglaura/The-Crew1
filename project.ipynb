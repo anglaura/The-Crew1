{
 "cells": [
  {
   "cell_type": "code",
   "execution_count": 10,
   "metadata": {},
   "outputs": [],
   "source": [
    "import cv2"
   ]
  },
  {
   "cell_type": "code",
   "execution_count": 11,
   "metadata": {},
   "outputs": [],
   "source": [
    "face_mask = cv2.CascadeClassifier(\"cascadedownload/cascade.xml\")\n",
    "faceCascade = cv2.CascadeClassifier(\"haarcascade/haarcascade_frontalface_default.xml\")\n",
    "noseCascade = cv2.CascadeClassifier(\"haarcascade/Nariz.xml\")"
   ]
  },
  {
   "cell_type": "code",
   "execution_count": 18,
   "metadata": {},
   "outputs": [],
   "source": [
    "cap = cv2.VideoCapture(0)\n",
    "mask_on = False\n",
    "\n",
    "#img1 = cv2.imread('ekitrisuenda.jpg')\n",
    "#img1 = cv2.imread('ekitrisuenda_masker.jpg')\n",
    "#img = cv2.resize(img1,(440,500))\n",
    " \n",
    "while(True):\n",
    "    # Capture frame-by-frame\n",
    "    ret, frame = cap.read()\n",
    "     \n",
    "    # Our operations on the frame come here\n",
    "    gray = cv2.cvtColor(frame, cv2.COLOR_BGR2GRAY)\n",
    " \n",
    "    wajah = faceCascade.detectMultiScale(gray, 1.1, 5)\n",
    "\n",
    "    for(x, y, w, h) in wajah:\n",
    "    \troi_gray = gray[y:y+h, x:x+w]\n",
    "    \troi_color = frame[y:y+h, x:x+w]\n",
    "    \tif mask_on:(\n",
    "    \t\tcv2.rectangle(frame, (x,y), (x+w, y+h), (0, 255, 0), 1),\n",
    "    \t\tcv2.putText(frame,'Mask On',(x,y),1,2,(0,255,0),2),\n",
    "            \n",
    "        )\n",
    "    \telse:(\n",
    "    \t\tcv2.rectangle(frame, (x,y), (x+w, y+h), (0,0,255),1),\n",
    "            cv2.putText(frame,'Mask Off',(x,y),1,2,(0,0,255),2),\n",
    "        \n",
    "        )\n",
    "\n",
    "    # gambar kotak di hidung\n",
    "    hidung = noseCascade.detectMultiScale(gray, 1.18, 35,)\n",
    "    for(sx, sy, sw, sh) in hidung:\n",
    "    \tcv2.rectangle(frame, (sx,sy), (sx+sw, sy+sh), (255,0,0),2),\n",
    "    \tcv2.putText(frame,'Hidung',(sx,sy),1,1,(255,0,0),1)\n",
    "        \n",
    "        \n",
    "    face = face_mask.detectMultiScale(gray,1.1,4)\n",
    "    for(x,y,w,h) in face:\n",
    "        roi_gray = gray[y:y+h, x:x+w]\n",
    "        roi_color=frame[y:y+h, x:x+w]\n",
    "        \n",
    "        cv2.rectangle(frame,(x,y),(x+w,y+h),(255,0,0),1),\n",
    "        cv2.putText(frame,'masker',(x,y),1,1,(255,0,0),1),\n",
    "        \n",
    "\n",
    "\n",
    "    \n",
    "    if(len(face) > 0 and len(hidung) == 0 ):\n",
    "        mask_on = True  \n",
    "    elif(len(hidung) == 0):\n",
    "        mask_on = True \n",
    "    else:\n",
    "        mask_on = False\n",
    "        \n",
    "         \n",
    "\n",
    "\n",
    "    # Display the resulting frame\n",
    "\n",
    "    cv2.imshow('video',frame)\n",
    "    if cv2.waitKey(1) & 0xFF == ord('q'):\n",
    "        break\n",
    " \n",
    "# When everything done, release the capture\n",
    "cap.release()\n",
    "cv2.destroyAllWindows()"
   ]
  },
  {
   "cell_type": "code",
   "execution_count": null,
   "metadata": {},
   "outputs": [],
   "source": []
  }
 ],
 "metadata": {
  "kernelspec": {
   "display_name": "Python 3",
   "language": "python",
   "name": "python3"
  },
  "language_info": {
   "codemirror_mode": {
    "name": "ipython",
    "version": 3
   },
   "file_extension": ".py",
   "mimetype": "text/x-python",
   "name": "python",
   "nbconvert_exporter": "python",
   "pygments_lexer": "ipython3",
   "version": "3.8.3"
  }
 },
 "nbformat": 4,
 "nbformat_minor": 4
}
